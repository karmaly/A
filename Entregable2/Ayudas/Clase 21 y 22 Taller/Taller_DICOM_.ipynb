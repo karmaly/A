{
 "cells": [
  {
   "cell_type": "markdown",
   "metadata": {
    "colab_type": "text",
    "id": "W0PNxVDzpwVK"
   },
   "source": [
    "<center><span style=\"color:yellow\"><h1><i> DICOM </i></h1></span></center>"
   ]
  },
  {
   "cell_type": "markdown",
   "metadata": {
    "colab_type": "text",
    "id": "v-XO6d9UpwVO"
   },
   "source": [
    "### Importe las librerias necesarias"
   ]
  },
  {
   "cell_type": "code",
   "execution_count": null,
   "metadata": {
    "colab": {},
    "colab_type": "code",
    "id": "pSjJPvdNpwVf"
   },
   "outputs": [],
   "source": [
    "1"
   ]
  },
  {
   "cell_type": "markdown",
   "metadata": {
    "colab_type": "text",
    "id": "yhqc92DlpwVs"
   },
   "source": [
    "### 1)\tUbique la carpeta con los archivos DICOM y muestre los nombres de los diferentes archivos"
   ]
  },
  {
   "cell_type": "code",
   "execution_count": null,
   "metadata": {
    "colab": {},
    "colab_type": "code",
    "id": "QmjKKihdpwVu"
   },
   "outputs": [],
   "source": []
  },
  {
   "cell_type": "markdown",
   "metadata": {
    "colab_type": "text",
    "id": "y_ug6zlSpwV4"
   },
   "source": [
    "### 2)\tLea todos los archivos alli contenidos e ingrese los datasets en una lista"
   ]
  },
  {
   "cell_type": "code",
   "execution_count": null,
   "metadata": {
    "colab": {
     "base_uri": "https://localhost:8080/",
     "height": 286
    },
    "colab_type": "code",
    "id": "rgty_su0pwV7",
    "outputId": "c1586c7d-2b4e-4277-8ede-3bd6d60bb410"
   },
   "outputs": [],
   "source": []
  },
  {
   "cell_type": "markdown",
   "metadata": {
    "colab_type": "text",
    "id": "qU-67W1rpwWF"
   },
   "source": [
    "### 3)\tSi los archivos aparecen desordenados, primero verifique de cualquiera de los datasets en la lista , si tiene el dataelement ImagePositionPatient o SliceLocation y ordene por alguno de estos parametros los datasets (fijarse en que eje esta variando los datasets)"
   ]
  },
  {
   "cell_type": "code",
   "execution_count": null,
   "metadata": {
    "colab": {},
    "colab_type": "code",
    "id": "pgE8hkxgpwWK"
   },
   "outputs": [],
   "source": []
  },
  {
   "cell_type": "markdown",
   "metadata": {
    "colab_type": "text",
    "id": "6OhEyqEzpwWV"
   },
   "source": [
    "### 4) Muestre los dataelements de cualquier dataset"
   ]
  },
  {
   "cell_type": "code",
   "execution_count": null,
   "metadata": {
    "colab": {
     "base_uri": "https://localhost:8080/",
     "height": 286
    },
    "colab_type": "code",
    "id": "xc2dggNypwWZ",
    "outputId": "b57d4024-c12f-49c6-9810-b3967dfaea42"
   },
   "outputs": [],
   "source": []
  },
  {
   "cell_type": "markdown",
   "metadata": {
    "colab_type": "text",
    "id": "JOZQ8ydOpwWi"
   },
   "source": [
    "### 5)\tVisualice la imagen de cualquiera de los datasets leidos , y muestre que profundidad de pixel (dtype), trae la matriz por defecto."
   ]
  },
  {
   "cell_type": "code",
   "execution_count": null,
   "metadata": {
    "colab": {
     "base_uri": "https://localhost:8080/",
     "height": 286
    },
    "colab_type": "code",
    "id": "BuEKwEiSpwWn",
    "outputId": "6eaa6aca-49f3-4d3e-96f0-2e115e8a993b"
   },
   "outputs": [],
   "source": []
  },
  {
   "cell_type": "markdown",
   "metadata": {
    "colab_type": "text",
    "id": "B6gVQSK2pwXA"
   },
   "source": [
    "### 6) Genere el \"sólido\" a partir de todas las imágenes superpuestas "
   ]
  },
  {
   "cell_type": "code",
   "execution_count": null,
   "metadata": {
    "colab": {
     "base_uri": "https://localhost:8080/",
     "height": 286
    },
    "colab_type": "code",
    "id": "2AfT6w8BpwXD",
    "outputId": "bbffd2da-9c83-48a2-cdba-14c0905ea8ca"
   },
   "outputs": [],
   "source": []
  },
  {
   "cell_type": "markdown",
   "metadata": {
    "colab_type": "text",
    "id": "ekrVHDEmpwXN"
   },
   "source": [
    "### 7)\tMuestre en 3 suplots horizontales los cortes coronal , sagital y axial, con su respectivo titulo"
   ]
  },
  {
   "cell_type": "code",
   "execution_count": null,
   "metadata": {
    "colab": {
     "base_uri": "https://localhost:8080/",
     "height": 286
    },
    "colab_type": "code",
    "id": "dhUJtM-ppwXQ",
    "outputId": "9ba3e8e9-cafd-4ed9-c278-0662698d0f6f"
   },
   "outputs": [],
   "source": []
  },
  {
   "cell_type": "markdown",
   "metadata": {
    "colab_type": "text",
    "id": "bbDKxaX1pwXY"
   },
   "source": [
    "### 8) Extraiga toda la información del paciente asociado al estudio"
   ]
  },
  {
   "cell_type": "code",
   "execution_count": null,
   "metadata": {
    "colab": {
     "base_uri": "https://localhost:8080/",
     "height": 303
    },
    "colab_type": "code",
    "id": "DQhPw_pWpwXd",
    "outputId": "6226cd0c-03c8-4069-b839-39ce2db5ab1d"
   },
   "outputs": [],
   "source": []
  },
  {
   "cell_type": "markdown",
   "metadata": {
    "colab_type": "text",
    "id": "d27ehNfjpwXr"
   },
   "source": [
    "### 9)\tLos datos que esten anonimizados modifiquelos por información ficticia. y posteriormente los guarda"
   ]
  },
  {
   "cell_type": "code",
   "execution_count": null,
   "metadata": {
    "colab": {
     "base_uri": "https://localhost:8080/",
     "height": 139
    },
    "colab_type": "code",
    "id": "yR7Nv-F5pwXv",
    "outputId": "af124f07-e054-41ad-dcfd-9fdee06daf8c"
   },
   "outputs": [],
   "source": []
  },
  {
   "cell_type": "markdown",
   "metadata": {
    "colab_type": "text",
    "id": "DmCkcVkrpwX5"
   },
   "source": [
    "### 10) cree una función que graficque un histograma de la matriz (imagen) que le pase como argumento"
   ]
  },
  {
   "cell_type": "code",
   "execution_count": null,
   "metadata": {
    "colab": {
     "base_uri": "https://localhost:8080/",
     "height": 34
    },
    "colab_type": "code",
    "id": "VIaA6pxhpwX8",
    "outputId": "71b95c8a-5f92-4250-a0dc-aa7c86c45867"
   },
   "outputs": [
    {
     "name": "stdout",
     "output_type": "stream",
     "text": [
      "('Area de mayor tamanho ', 3063.0)\n"
     ]
    }
   ],
   "source": []
  },
  {
   "cell_type": "markdown",
   "metadata": {
    "colab_type": "text",
    "id": "oUrXOuIspwYG"
   },
   "source": [
    "### 11) Cree un subplot horizontal de 3 tramas y en cada uno muestre un histograma de un corte diferente, con su resepctivo título"
   ]
  },
  {
   "cell_type": "code",
   "execution_count": null,
   "metadata": {
    "colab": {
     "base_uri": "https://localhost:8080/",
     "height": 286
    },
    "colab_type": "code",
    "id": "1JkxRZMWpwYJ",
    "outputId": "49aa7aad-ab6b-4550-c9c6-006f514659c1",
    "scrolled": true
   },
   "outputs": [],
   "source": []
  }
 ],
 "metadata": {
  "colab": {
   "collapsed_sections": [],
   "name": "Taller_2_0 [Resuelto].ipynb",
   "provenance": []
  },
  "kernelspec": {
   "display_name": "Python 3 (ipykernel)",
   "language": "python",
   "name": "python3"
  },
  "language_info": {
   "codemirror_mode": {
    "name": "ipython",
    "version": 3
   },
   "file_extension": ".py",
   "mimetype": "text/x-python",
   "name": "python",
   "nbconvert_exporter": "python",
   "pygments_lexer": "ipython3",
   "version": "3.11.4"
  }
 },
 "nbformat": 4,
 "nbformat_minor": 1
}
